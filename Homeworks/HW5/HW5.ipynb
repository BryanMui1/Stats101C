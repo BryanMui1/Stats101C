{
 "cells": [
  {
   "cell_type": "markdown",
   "metadata": {},
   "source": [
    "# HW 5\n",
    "#### Bryan Mui 506021334"
   ]
  },
  {
   "cell_type": "markdown",
   "metadata": {},
   "source": [
    "For Assignment 5, find the attached csv file: Data.csv. Download Data.csv.\n",
    "\n",
    "In this dataset, the first two columns are features X_1 and X_2 and the last column is the response. Finish the following step:\n",
    "\n",
    "(1) Split the dataset into training and testing at the ratio 67:33 \n",
    "\n",
    "(2) Train a linear SVM on training set and report the testing accuracy\n",
    "\n",
    "(3) Train a Kernel SVM (Gaussian) on training set and report the testing accuracy\n",
    "\n",
    "(4) Compare these two testing accuracy and explain why there is a huge difference\n",
    "\n",
    "(5) Plot the decision boundary of Linear SVM\n",
    "\n",
    "(6) Plot the decision boundary Kernel SVM to validate your conclusion"
   ]
  },
  {
   "cell_type": "code",
   "execution_count": null,
   "metadata": {
    "vscode": {
     "languageId": "plaintext"
    }
   },
   "outputs": [],
   "source": []
  }
 ],
 "metadata": {
  "language_info": {
   "name": "python"
  }
 },
 "nbformat": 4,
 "nbformat_minor": 2
}
