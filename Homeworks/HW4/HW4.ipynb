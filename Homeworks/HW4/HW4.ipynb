{
 "cells": [
  {
   "cell_type": "markdown",
   "metadata": {},
   "source": [
    "# HW 4\n",
    "#### Bryan Mui 506021334"
   ]
  },
  {
   "cell_type": "markdown",
   "metadata": {},
   "source": [
    "In this dataset, there are 6 predictors X_1...,X_6 and 1 response variable. There are 3 predictors that should not be included in the regression model. Please apply LASSO to figure out those variables"
   ]
  },
  {
   "cell_type": "code",
   "execution_count": 33,
   "metadata": {},
   "outputs": [],
   "source": [
    "# import\n",
    "import pandas as pd # type: ignore\n",
    "from sklearn.model_selection import train_test_split # type: ignore\n",
    "from sklearn.linear_model import Lasso # type: ignore"
   ]
  },
  {
   "cell_type": "code",
   "execution_count": 34,
   "metadata": {},
   "outputs": [
    {
     "name": "stdout",
     "output_type": "stream",
     "text": [
      "(1000, 8)\n"
     ]
    },
    {
     "data": {
      "text/html": [
       "<div>\n",
       "<style scoped>\n",
       "    .dataframe tbody tr th:only-of-type {\n",
       "        vertical-align: middle;\n",
       "    }\n",
       "\n",
       "    .dataframe tbody tr th {\n",
       "        vertical-align: top;\n",
       "    }\n",
       "\n",
       "    .dataframe thead th {\n",
       "        text-align: right;\n",
       "    }\n",
       "</style>\n",
       "<table border=\"1\" class=\"dataframe\">\n",
       "  <thead>\n",
       "    <tr style=\"text-align: right;\">\n",
       "      <th></th>\n",
       "      <th>Unnamed: 0</th>\n",
       "      <th>X_1</th>\n",
       "      <th>X_2</th>\n",
       "      <th>X_3</th>\n",
       "      <th>X_4</th>\n",
       "      <th>X_5</th>\n",
       "      <th>X_6</th>\n",
       "      <th>Y</th>\n",
       "    </tr>\n",
       "  </thead>\n",
       "  <tbody>\n",
       "    <tr>\n",
       "      <th>0</th>\n",
       "      <td>0</td>\n",
       "      <td>-6.394606</td>\n",
       "      <td>-7.305487</td>\n",
       "      <td>-6.824976</td>\n",
       "      <td>-7.248253</td>\n",
       "      <td>4.890602</td>\n",
       "      <td>-5.595641</td>\n",
       "      <td>-6.231352</td>\n",
       "    </tr>\n",
       "    <tr>\n",
       "      <th>1</th>\n",
       "      <td>1</td>\n",
       "      <td>-9.610495</td>\n",
       "      <td>-6.184431</td>\n",
       "      <td>-9.256275</td>\n",
       "      <td>-8.800796</td>\n",
       "      <td>-8.456382</td>\n",
       "      <td>-10.867742</td>\n",
       "      <td>-22.526547</td>\n",
       "    </tr>\n",
       "    <tr>\n",
       "      <th>2</th>\n",
       "      <td>2</td>\n",
       "      <td>-0.735629</td>\n",
       "      <td>-1.965451</td>\n",
       "      <td>1.420229</td>\n",
       "      <td>-0.653601</td>\n",
       "      <td>-8.352232</td>\n",
       "      <td>-0.529532</td>\n",
       "      <td>-9.229125</td>\n",
       "    </tr>\n",
       "    <tr>\n",
       "      <th>3</th>\n",
       "      <td>3</td>\n",
       "      <td>4.498679</td>\n",
       "      <td>-1.973594</td>\n",
       "      <td>5.109008</td>\n",
       "      <td>4.659780</td>\n",
       "      <td>-3.902677</td>\n",
       "      <td>4.093653</td>\n",
       "      <td>0.377013</td>\n",
       "    </tr>\n",
       "    <tr>\n",
       "      <th>4</th>\n",
       "      <td>4</td>\n",
       "      <td>-1.595928</td>\n",
       "      <td>-9.023107</td>\n",
       "      <td>-2.153985</td>\n",
       "      <td>-2.877928</td>\n",
       "      <td>8.012144</td>\n",
       "      <td>-1.016704</td>\n",
       "      <td>-0.540507</td>\n",
       "    </tr>\n",
       "  </tbody>\n",
       "</table>\n",
       "</div>"
      ],
      "text/plain": [
       "   Unnamed: 0       X_1       X_2       X_3       X_4       X_5        X_6  \\\n",
       "0           0 -6.394606 -7.305487 -6.824976 -7.248253  4.890602  -5.595641   \n",
       "1           1 -9.610495 -6.184431 -9.256275 -8.800796 -8.456382 -10.867742   \n",
       "2           2 -0.735629 -1.965451  1.420229 -0.653601 -8.352232  -0.529532   \n",
       "3           3  4.498679 -1.973594  5.109008  4.659780 -3.902677   4.093653   \n",
       "4           4 -1.595928 -9.023107 -2.153985 -2.877928  8.012144  -1.016704   \n",
       "\n",
       "           Y  \n",
       "0  -6.231352  \n",
       "1 -22.526547  \n",
       "2  -9.229125  \n",
       "3   0.377013  \n",
       "4  -0.540507  "
      ]
     },
     "execution_count": 34,
     "metadata": {},
     "output_type": "execute_result"
    }
   ],
   "source": [
    "df = pd.read_csv('DF_LASSO.csv')\n",
    "print(df.shape)\n",
    "df.head()"
   ]
  },
  {
   "cell_type": "code",
   "execution_count": 35,
   "metadata": {},
   "outputs": [
    {
     "name": "stdout",
     "output_type": "stream",
     "text": [
      "(700, 6)\n",
      "(300, 6)\n",
      "(700,)\n",
      "(300,)\n"
     ]
    }
   ],
   "source": [
    "# split the data 70-30\n",
    "x = df[['X_1', 'X_2', 'X_3', 'X_4', 'X_5', 'X_6']]\n",
    "y = df['Y']\n",
    "# split the training and testing data\n",
    "x_train, x_test, y_train, y_test = train_test_split(x, y, test_size=0.3, random_state=777)\n",
    "print(x_train.shape)\n",
    "print(x_test.shape)\n",
    "print(y_train.shape)\n",
    "print(y_test.shape)"
   ]
  },
  {
   "cell_type": "code",
   "execution_count": 36,
   "metadata": {},
   "outputs": [
    {
     "name": "stdout",
     "output_type": "stream",
     "text": [
      "[[ 1.34099278 -0.3137271   1.36284311  1.24701832 -1.65278517  1.2569556 ]\n",
      " [-1.12978166  0.63323593 -1.42247517 -1.14193977  0.19060871 -0.87327622]\n",
      " [ 0.57359796  0.09157047  0.53531181  0.54837947 -0.93235326  0.76274614]\n",
      " ...\n",
      " [ 0.87529363  0.17726518  0.91349385  0.97506891 -0.11249501  1.05045473]\n",
      " [-1.10295211  0.91081167 -1.05909659 -1.00700534 -0.31168293 -1.31667324]\n",
      " [-0.69126793  0.05978308 -0.96914841 -0.78966224 -1.50831773 -1.15962283]]\n",
      "[[-1.00972121 -0.17211761 -1.12689469 -1.17503268 -0.23024407 -0.97406974]\n",
      " [-0.63184477  0.72245959 -0.36924473 -0.04938881 -0.91871048 -0.38102932]\n",
      " [-0.00932703  1.03378624 -0.02140949 -0.10124237  0.3599867  -0.04841046]\n",
      " ...\n",
      " [ 1.67174819  1.00059634  1.41482724  1.49628001  1.43207387  1.77995892]\n",
      " [ 1.00720301 -1.00919743  1.00370442  0.88836527 -1.05168642  0.68077894]\n",
      " [-0.4894885   0.17324024 -0.4174558  -0.70537229  0.25894102 -0.28460656]]\n"
     ]
    }
   ],
   "source": [
    "# standardize the data so that lasso can compare the features more effectively \n",
    "from sklearn.preprocessing import StandardScaler\n",
    "scaler = StandardScaler()\n",
    "x_train_scale = scaler.fit_transform(x_train)\n",
    "x_test_scale = scaler.transform(x_test)\n",
    "\n",
    "print(x_train_scale)\n",
    "print(x_test_scale)"
   ]
  },
  {
   "cell_type": "code",
   "execution_count": 37,
   "metadata": {},
   "outputs": [
    {
     "name": "stdout",
     "output_type": "stream",
     "text": [
      "R-squared: 0.9664702635867173\n",
      "Lasso Coefficients: [4.75697658 4.62344221 0.         0.         4.77275264 0.        ]\n"
     ]
    },
    {
     "data": {
      "text/html": [
       "<div>\n",
       "<style scoped>\n",
       "    .dataframe tbody tr th:only-of-type {\n",
       "        vertical-align: middle;\n",
       "    }\n",
       "\n",
       "    .dataframe tbody tr th {\n",
       "        vertical-align: top;\n",
       "    }\n",
       "\n",
       "    .dataframe thead th {\n",
       "        text-align: right;\n",
       "    }\n",
       "</style>\n",
       "<table border=\"1\" class=\"dataframe\">\n",
       "  <thead>\n",
       "    <tr style=\"text-align: right;\">\n",
       "      <th></th>\n",
       "      <th>feature</th>\n",
       "      <th>coefficient</th>\n",
       "    </tr>\n",
       "  </thead>\n",
       "  <tbody>\n",
       "    <tr>\n",
       "      <th>0</th>\n",
       "      <td>X_1</td>\n",
       "      <td>4.756977</td>\n",
       "    </tr>\n",
       "    <tr>\n",
       "      <th>1</th>\n",
       "      <td>X_2</td>\n",
       "      <td>4.623442</td>\n",
       "    </tr>\n",
       "    <tr>\n",
       "      <th>2</th>\n",
       "      <td>X_3</td>\n",
       "      <td>0.000000</td>\n",
       "    </tr>\n",
       "    <tr>\n",
       "      <th>3</th>\n",
       "      <td>X_4</td>\n",
       "      <td>0.000000</td>\n",
       "    </tr>\n",
       "    <tr>\n",
       "      <th>4</th>\n",
       "      <td>X_5</td>\n",
       "      <td>4.772753</td>\n",
       "    </tr>\n",
       "    <tr>\n",
       "      <th>5</th>\n",
       "      <td>X_6</td>\n",
       "      <td>0.000000</td>\n",
       "    </tr>\n",
       "  </tbody>\n",
       "</table>\n",
       "</div>"
      ],
      "text/plain": [
       "  feature  coefficient\n",
       "0     X_1     4.756977\n",
       "1     X_2     4.623442\n",
       "2     X_3     0.000000\n",
       "3     X_4     0.000000\n",
       "4     X_5     4.772753\n",
       "5     X_6     0.000000"
      ]
     },
     "execution_count": 37,
     "metadata": {},
     "output_type": "execute_result"
    }
   ],
   "source": [
    "# Train the Lasso model\n",
    "m1 = Lasso(alpha=1)\n",
    "m1.fit(x_train_scale, y_train)\n",
    "\n",
    "# Evaluate the model\n",
    "from sklearn.metrics import (r2_score)\n",
    "y_pred = m1.predict(x_test_scale)\n",
    "r2 = r2_score(y_test, y_pred)\n",
    "print(f\"R-squared: {r2}\")\n",
    "\n",
    "print(\"Lasso Coefficients:\", m1.coef_)\n",
    "\n",
    "coef = pd.DataFrame({\n",
    "    'feature': x.columns,\n",
    "    'coefficient': m1.coef_\n",
    "})\n",
    "coef.head(10)"
   ]
  },
  {
   "cell_type": "markdown",
   "metadata": {},
   "source": [
    "LASSO shrinks the coefficients that are not important to 0, so the variables that should not be included in the model are X_3, X_4, and X_6"
   ]
  }
 ],
 "metadata": {
  "kernelspec": {
   "display_name": "stats101c",
   "language": "python",
   "name": "python3"
  },
  "language_info": {
   "codemirror_mode": {
    "name": "ipython",
    "version": 3
   },
   "file_extension": ".py",
   "mimetype": "text/x-python",
   "name": "python",
   "nbconvert_exporter": "python",
   "pygments_lexer": "ipython3",
   "version": "3.12.7"
  }
 },
 "nbformat": 4,
 "nbformat_minor": 2
}
