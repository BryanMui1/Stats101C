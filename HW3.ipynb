{
 "cells": [
  {
   "cell_type": "markdown",
   "metadata": {},
   "source": [
    "### Stats 101C HW 3\n",
    "\n",
    "##### Bryan Mui UID 506021334"
   ]
  },
  {
   "cell_type": "code",
   "execution_count": null,
   "metadata": {},
   "outputs": [],
   "source": [
    "# imports\n",
    "import pandas as pd # type: ignore\n",
    "from sklearn.model_selection import train_test_split # type: ignore\n"
   ]
  },
  {
   "cell_type": "code",
   "execution_count": 27,
   "metadata": {},
   "outputs": [
    {
     "name": "stdout",
     "output_type": "stream",
     "text": [
      "   variance  skewness  curtosis  entropy  class\n",
      "0   3.62160    8.6661   -2.8073 -0.44699      0\n",
      "1   4.54590    8.1674   -2.4586 -1.46210      0\n",
      "2   3.86600   -2.6383    1.9242  0.10645      0\n",
      "3   3.45660    9.5228   -4.0112 -3.59440      0\n",
      "4   0.32924   -4.4552    4.5718 -0.98880      0\n",
      "(1372, 5)\n"
     ]
    }
   ],
   "source": [
    "df = pd.read_csv('BankNote_Authentication.csv')\n",
    "print(df.head())\n",
    "print(df.shape)"
   ]
  },
  {
   "cell_type": "code",
   "execution_count": 17,
   "metadata": {},
   "outputs": [
    {
     "name": "stdout",
     "output_type": "stream",
     "text": [
      "   variance  skewness  curtosis  entropy\n",
      "0   3.62160    8.6661   -2.8073 -0.44699\n",
      "1   4.54590    8.1674   -2.4586 -1.46210\n",
      "2   3.86600   -2.6383    1.9242  0.10645\n",
      "3   3.45660    9.5228   -4.0112 -3.59440\n",
      "4   0.32924   -4.4552    4.5718 -0.98880\n",
      "0    0\n",
      "1    0\n",
      "2    0\n",
      "3    0\n",
      "4    0\n",
      "Name: class, dtype: int64\n"
     ]
    }
   ],
   "source": [
    "# separate the response and predictor variables\n",
    "x = df[['variance', 'skewness', 'curtosis', 'entropy']] \n",
    "y = df['class'] \n",
    "print(x.head())\n",
    "print(y.head())"
   ]
  },
  {
   "cell_type": "code",
   "execution_count": 31,
   "metadata": {},
   "outputs": [
    {
     "name": "stdout",
     "output_type": "stream",
     "text": [
      "(960, 4)\n",
      "(412, 4)\n",
      "(960,)\n",
      "(412,)\n"
     ]
    }
   ],
   "source": [
    "# split the training and testing data\n",
    "x_train, x_test, y_train, y_test = train_test_split(x, y, test_size=0.3, random_state=777)\n",
    "print(x_train.shape)\n",
    "print(x_test.shape)\n",
    "print(y_train.shape)\n",
    "print(y_test.shape)"
   ]
  },
  {
   "cell_type": "code",
   "execution_count": 35,
   "metadata": {},
   "outputs": [
    {
     "name": "stdout",
     "output_type": "stream",
     "text": [
      "411.59999999999997\n",
      "      variance  skewness  curtosis  entropy\n",
      "1117   -1.9881   0.99945 -0.285620 -0.70044\n",
      "128     4.6689   1.30980  0.055404  1.90900\n",
      "753     3.1541  -5.17110  6.599100  0.57455\n",
      "219    -1.3000  10.26780 -2.953000 -5.86380\n",
      "572     5.5040  10.36710 -4.413000 -4.02110\n",
      "      variance  skewness  curtosis  entropy\n",
      "634    6.82480    5.2187  -2.54250  0.54610\n",
      "928   -6.15360    7.9295   0.61663 -3.26460\n",
      "390   -0.36279    8.2895  -1.92130 -3.33320\n",
      "1320  -0.72068   -6.7583   5.84080  0.62369\n",
      "812   -2.06590    1.0512  -0.46298 -1.09740\n",
      "1117    1\n",
      "128     0\n",
      "753     0\n",
      "219     0\n",
      "572     0\n",
      "Name: class, dtype: int64\n",
      "634     0\n",
      "928     1\n",
      "390     0\n",
      "1320    1\n",
      "812     1\n",
      "Name: class, dtype: int64\n"
     ]
    }
   ],
   "source": [
    "# Check the dimensions of the split\n",
    "print(1372 * 0.3) # 411.59999999999997, therefore we have splitted the dataset into 70:30\n",
    "\n",
    "print(x_train.head())\n",
    "print(x_test.head())\n",
    "print(y_train.head())\n",
    "print(y_test.head())"
   ]
  },
  {
   "cell_type": "code",
   "execution_count": null,
   "metadata": {},
   "outputs": [],
   "source": []
  }
 ],
 "metadata": {
  "kernelspec": {
   "display_name": "stats101c",
   "language": "python",
   "name": "python3"
  },
  "language_info": {
   "codemirror_mode": {
    "name": "ipython",
    "version": 3
   },
   "file_extension": ".py",
   "mimetype": "text/x-python",
   "name": "python",
   "nbconvert_exporter": "python",
   "pygments_lexer": "ipython3",
   "version": "3.12.7"
  }
 },
 "nbformat": 4,
 "nbformat_minor": 2
}
